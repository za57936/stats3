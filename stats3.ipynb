{
 "cells": [
  {
   "cell_type": "code",
   "execution_count": 7,
   "metadata": {},
   "outputs": [
    {
     "name": "stdout",
     "output_type": "stream",
     "text": [
      "Z value is : 3.2\n",
      "By looking at z- table and p-value associated with 3.20 is 0.9993\n",
      "i.e. probability of having value less than 108 is 0.9993 and more than or equals to 108 is (1-0.9993)=0.0007.\n",
      "Since this probability is less than 0.05 so we will reject the Null hypothesis i.e. there is raw cornstarch effect.\n"
     ]
    }
   ],
   "source": [
    "import math      #importing math package\n",
    "#1 Test the hypothesis that the raw cornstarch had an effect or not.\n",
    "#this problem is related to concept of Null Hypothesis, In this first we assume the null hypothesis is true.\n",
    "μ= 100      #The population mean is 100\n",
    "z= (108-100)/(15/(math.sqrt(36)))\n",
    "print(\"Z value is : \"+str(z))\n",
    "\n",
    "print(\"By looking at z- table and p-value associated with 3.20 is 0.9993\")\n",
    "print(\"i.e. probability of having value less than 108 is 0.9993 and more than or equals to 108 is (1-0.9993)=0.0007.\")\n",
    "print(\"Since this probability is less than 0.05 so we will reject the Null hypothesis i.e. there is raw cornstarch effect.\")"
   ]
  },
  {
   "cell_type": "code",
   "execution_count": 8,
   "metadata": {},
   "outputs": [
    {
     "name": "stdout",
     "output_type": "stream",
     "text": [
      "-0.7080278164104213\n",
      "The probability that the survey will show a greater percentage of \n",
      "        Republican voters in the second state than in the first state is 0.24.\n"
     ]
    }
   ],
   "source": [
    "#2\n",
    "p1=0.52       #p1 = proportion of Republican voters in first state.\n",
    "p2=0.47       #p2 = proportion of Republican voters in second state.\n",
    "E=p1-p2       #mean of the difference in sample proportions \n",
    "n1=100        #number of voters sampled from first state \n",
    "n2=100        #number of voters sampled from second state\n",
    "sigma = math.sqrt((p1*(1-p1))/n1+(p2*(1-p2))/n2)     #standard deviation of difference\n",
    "z= (0-E) /sigma        #z-score\n",
    "\n",
    "print(z) \n",
    "#Using Stat Trek's Normal Distribution Calculator, we find that probability of a z-score being -0.7082 or less is 0.24.\n",
    "print(\"\"\"The probability that the survey will show a greater percentage of \n",
    "        Republican voters in the second state than in the first state is 0.24.\"\"\")"
   ]
  },
  {
   "cell_type": "code",
   "execution_count": 9,
   "metadata": {},
   "outputs": [
    {
     "name": "stdout",
     "output_type": "stream",
     "text": [
      "A z-score of 0.35 is .1368 + .5000* = .6368 or 63.68%.\n",
      "Thus I scored better than 63.68% of the average test takers\n"
     ]
    }
   ],
   "source": [
    "#3\n",
    "X = 1100    #observation(SAT score)\n",
    "x_bar = 1026    #mean\n",
    "std_dev = 209     #standard deviation\n",
    "z = (X-x_bar)/std_dev       #z-score\n",
    "#Looking up z-value in z-table to see what percentage of test-takers scored below me.\n",
    "#The z-table shown has scores for the RIGHT of the mean. Therefore, we have to add .500 for all of the area LEFT of the mean\n",
    "print(\"A z-score of \"+str(round(z,2)) + \" is .1368 + .5000* = .6368 or 63.68%.\")\n",
    "print(\"Thus I scored better than 63.68% of the average test takers\")"
   ]
  },
  {
   "cell_type": "code",
   "execution_count": null,
   "metadata": {},
   "outputs": [],
   "source": []
  }
 ],
 "metadata": {
  "kernelspec": {
   "display_name": "Python 3",
   "language": "python",
   "name": "python3"
  },
  "language_info": {
   "codemirror_mode": {
    "name": "ipython",
    "version": 3
   },
   "file_extension": ".py",
   "mimetype": "text/x-python",
   "name": "python",
   "nbconvert_exporter": "python",
   "pygments_lexer": "ipython3",
   "version": "3.7.0"
  }
 },
 "nbformat": 4,
 "nbformat_minor": 2
}
